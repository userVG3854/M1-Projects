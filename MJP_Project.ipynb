{
  "nbformat": 4,
  "nbformat_minor": 0,
  "metadata": {
    "colab": {
      "provenance": []
    },
    "kernelspec": {
      "name": "python3",
      "display_name": "Python 3"
    },
    "language_info": {
      "name": "python"
    }
  },
  "cells": [
    {
      "cell_type": "code",
      "source": [
        "import numpy as np\n",
        "import scipy as sc\n",
        "import scipy.stats as scs\n",
        "import matplotlib.pyplot as plt\n",
        "from numpy import zeros, cumsum, arange, append\n",
        "from numpy.random import poisson, rand, exponential\n",
        "from matplotlib.pyplot import figure, step, title, legend"
      ],
      "metadata": {
        "id": "k5b1zhPQjtdK"
      },
      "execution_count": null,
      "outputs": []
    },
    {
      "cell_type": "markdown",
      "source": [
        "#BIRTH-DEATH PROCESSES"
      ],
      "metadata": {
        "id": "AySWveEjd1wn"
      }
    },
    {
      "cell_type": "markdown",
      "source": [
        "GRIMAUD, GRUNENWALD Paul"
      ],
      "metadata": {
        "id": "yFBGmLBuCIa2"
      }
    },
    {
      "cell_type": "markdown",
      "source": [
        "##Introduction"
      ],
      "metadata": {
        "id": "qxvBal1_d6Et"
      }
    },
    {
      "cell_type": "markdown",
      "source": [
        "**Rules**\n",
        "\n",
        "The project is made by groups of two members. Each group must send only a Python Notebook containing theoretical and numerical results. The code must be provided with comments and each drawing must contain a legend and be explained and analyzed.\n",
        "\n",
        "**Objective**\n",
        "\n",
        "The purpose of the project is to select one (or several) Markov Jump Process, and to show with a numerical approach the validity of one (or more) theoritical results it satis\n",
        "es."
      ],
      "metadata": {
        "id": "pDE9ynGHgZ-a"
      }
    },
    {
      "cell_type": "markdown",
      "source": [
        "##Theoretical Part\n",
        "\n",
        "Present the Markov Jump process you choose study.\n",
        "Provide the proof (which must not be a copy of a proof done in exercise or found in a book) of one (or more) theoretical result (of your choice) about the Markov Jump process."
      ],
      "metadata": {
        "id": "S3JgZOIid3O0"
      }
    },
    {
      "cell_type": "markdown",
      "source": [
        "**Theorem that we try to prove:** The chosen theorem states that the population of a birth-death Markov jump process explodes almost surely if and only if the sum of the reciprocals of the birth rates converges. In other words, if $\\sum_{n=1}^\\infty \\frac{1}{\\lambda_n}$ converges, then the population will explode almost surely.\n",
        "\n",
        "This theorem is based on the idea that if the expected time until the next birth event becomes arbitrarily small as the population grows, then the population will eventually grow without bound."
      ],
      "metadata": {
        "id": "Abizqx8Ud2ef"
      }
    },
    {
      "cell_type": "markdown",
      "source": [
        "*First, assume that $\\sum_{n=1}^{\\infty}\\frac{1}{\\lambda_n}$ converges. Let $N(t)$ be the population of the process at time $t$, and let $T_n$ be the time until the $n$-th birth event. Then $T_n$ is an i.i.d. sequence of random variables with mean $1/\\lambda_n$.*\n",
        "\n",
        "*By the strong law of large numbers, we have:*\n",
        "$$\n",
        "lim_{n\\rightarrow \\infty}~\\frac{T_1+...+T_n}{n} = lim_{n\\rightarrow \\infty} \\frac{1}{n}\\sum_{i=1}^n \\frac{1}{\\lambda_i} = 0\n",
        "$$\n",
        "*almost surely, since $\\sum_{n=1}^{\\infty}\\frac{1}{\\lambda_n}$ converges. This means that the expected time until the next birth event becomes arbitrarily small as the population grows, and so the population will eventually grow without bound.*\n",
        "\n",
        "*Conversely, assume that the population of the process explodes almost surely. Let $N(t)$ and $T_n$ be as above. Then, for any $n$, we have:*\n",
        "$$\n",
        "T_n \\ge \\frac{1}{\\lambda_n}(N_{n-1}+1)\n",
        "$$\n",
        "*since $T_n$ is the time until the $n$th birth event, and the population must be at least $n-1$ at that time. It follows that:*\n",
        "$$\n",
        "\\sum_{n=1}^\\infty \\frac{1}{\\lambda_n} \\ge \\sum_{n=1}^\\infty \\frac{1}{T_n/(N_{n-1}+1)}\n",
        "$$\n",
        "*By the law of large numbers, we have:*\n",
        "$$\n",
        "lim_{n\\rightarrow \\infty}~\\frac{T_1+...+T_n}{n} = lim_{n\\rightarrow \\infty} \\frac{1}{n}\\sum_{i=1}^n \\frac{1}{\\lambda_i} > 0\n",
        "$$\n",
        "*almost surely, since the population explodes almost surely. This implies that:*\n",
        "$$\n",
        "lim_{n\\rightarrow 1} \\frac{N_{n-1}}{n} = lim_{n\\rightarrow \\infty} \\frac{T_1+...+T_{n-1}}{n\\lambda_n} \\rightarrow \\infty\n",
        "$$\n",
        "*almost surely, which means that the expected time until the next birth event approaches zero as the population grows. Therefore, $\\sum_{n=1}^{\\infty}\\frac{1}{\\lambda_n}$ must diverge.*"
      ],
      "metadata": {
        "id": "AsNGJboN5OtK"
      }
    },
    {
      "cell_type": "markdown",
      "source": [
        "##Numerical Part\n",
        "\n",
        "Propose a method to simulate the Markov Jump process.\n",
        "\n",
        "Show the validity of the theoretical result using a numerical approach. Your approach has to be explained and justi\n",
        "ed by mathetematical results. Personal initiatives are encouraged. You can also\n",
        "show other simulations of the process that you will comment and use to describe the properties of the model, such as its long-time behavior."
      ],
      "metadata": {
        "id": "tc6O3qfKgwPn"
      }
    },
    {
      "cell_type": "markdown",
      "source": [
        "**Simulation of the path**"
      ],
      "metadata": {
        "id": "Kalehi7qg3mj"
      }
    },
    {
      "cell_type": "code",
      "source": [
        "def simul_model(x, lam, mu, T):\n",
        "    scale_lam = 1. / lam\n",
        "    scale_mu = 1. / mu\n",
        "    E = [0]\n",
        "    jumps = [x]\n",
        "    while np.sum(E) <= T:\n",
        "        if (-1) ** (x + np.size(E)) == 1:\n",
        "            E.append(exponential(scale_lam))\n",
        "            jumps.append(x)\n",
        "        else:\n",
        "            E.append(exponential(scale_mu))\n",
        "            jumps.append(1 - x)\n",
        "    E[np.size(E) - 1] = T - np.cumsum(E)[-2]\n",
        "    events = np.cumsum(E)\n",
        "    jumps[np.size(E) - 1] = jumps[np.size(E) - 2]\n",
        "    return events, jumps"
      ],
      "metadata": {
        "id": "8BbgJTAh-c6S"
      },
      "execution_count": null,
      "outputs": []
    },
    {
      "cell_type": "code",
      "source": [
        "x = 1\n",
        "lam = 5 #Birth rate parameter\n",
        "mu = 10 #Death rate parameter\n",
        "T = 1 #End time\n",
        "\n",
        "events, jumps = simul_model(x, lam, mu, T)\n",
        "step(events, jumps, where=\"post\", label=\"MJP on [0,\" + str(T) + \"]\", linewidth=2.0)\n",
        "title(\"Markov Jump Process, with lambda = \" + str(lam) + \" and mu = \" + str(mu), fontsize=12)\n",
        "legend(loc=\"best\")"
      ],
      "metadata": {
        "colab": {
          "base_uri": "https://localhost:8080/",
          "height": 469
        },
        "id": "yN_fogK6-isP",
        "outputId": "d70bd35c-fb17-4e3a-8f61-c72f9cab52c9"
      },
      "execution_count": null,
      "outputs": [
        {
          "output_type": "execute_result",
          "data": {
            "text/plain": [
              "<matplotlib.legend.Legend at 0x7f3266119480>"
            ]
          },
          "metadata": {},
          "execution_count": 37
        },
        {
          "output_type": "display_data",
          "data": {
            "text/plain": [
              "<Figure size 640x480 with 1 Axes>"
            ],
            "image/png": "[encoded data removed]"
          },
          "metadata": {}
        }
      ]
    },
    {
      "cell_type": "markdown",
      "source": [
        "**Monte-Carlo Approximation**"
      ],
      "metadata": {
        "id": "1nJ4XkZkg4m9"
      }
    },
    {
      "cell_type": "markdown",
      "source": [
        "*Theoritical part for Monte-Carlo approximation implementation:*\n",
        "$$\n",
        "P(Z_{k+1}=n+1|Z_k=n) = \\frac{\\lambda_n}{\\lambda_n+\\mu_n}\n",
        "$$\n",
        "$$\n",
        "P(Z_{k+1}=n-1|Z_k=n) = \\frac{\\mu_n}{\\lambda_n+\\mu_n}\n",
        "$$"
      ],
      "metadata": {
        "id": "qRpUWuZhCgas"
      }
    },
    {
      "cell_type": "code",
      "source": [
        "def Prob_Model(M, lam, mu, T, x, y):\n",
        "    E = 0\n",
        "    if y == 0:\n",
        "        if x == 0:\n",
        "            E = np.exp(-(lam + mu) * T) + (lam / (lam + mu)) * (1 - np.exp(-(lam + mu) * T))\n",
        "        else:\n",
        "            E = (lam / (lam + mu)) * (1 - np.exp(-(lam + mu) * T))\n",
        "    else:\n",
        "        if x == 1:\n",
        "            E = np.exp(-(lam + mu) * T) + (mu / (lam + mu)) * (1 - np.exp(-(lam + mu) * T))\n",
        "        else:\n",
        "            E = (mu / (lam + mu)) * (1 - np.exp(-(lam + mu) * T))\n",
        "    return E\n",
        "\n"
      ],
      "metadata": {
        "id": "iqA8bNzi-z0e"
      },
      "execution_count": null,
      "outputs": []
    },
    {
      "cell_type": "code",
      "source": [
        "x = 1\n",
        "y = 0 #Final state\n",
        "lam = 0.02\n",
        "mu = 0.01\n",
        "T = 1000\n",
        "M = 10000 #Number of samples\n",
        "\n",
        "print(Prob_Model(M,lam,mu,T,x,y))"
      ],
      "metadata": {
        "colab": {
          "base_uri": "https://localhost:8080/"
        },
        "id": "yCH-8ZlYD5gK",
        "outputId": "c37ca372-75de-4a55-8f55-36a5abeab5df"
      },
      "execution_count": null,
      "outputs": [
        {
          "output_type": "stream",
          "name": "stdout",
          "text": [
            "0.6666666666666043\n"
          ]
        }
      ]
    },
    {
      "cell_type": "code",
      "source": [
        "def Sample_Model(M, lam, mu, T, x):\n",
        "    sample = []\n",
        "    for i in range(1, M):\n",
        "        events, jumps = simul_model(x, lam, mu, T)\n",
        "        sample.append(jumps[-1])\n",
        "    return sample\n",
        "\n",
        "def LLN_Prob_Model(M, lam, mu, T, x, y):\n",
        "    sample = Sample_Model(M, lam, mu, T, x)\n",
        "    sample_new = []\n",
        "    for i in range(1, M):\n",
        "        if sample[i - 1] == y:\n",
        "            sample_new.append(1)\n",
        "        else:\n",
        "            sample_new.append(0)\n",
        "    return np.mean(sample_new), np.std(sample_new)\n",
        "\n",
        "x = 1\n",
        "y = 0 #Final state\n",
        "lam = 0.02\n",
        "mu = 0.01\n",
        "T = 1000\n",
        "M = 10000 #Number of samples\n",
        "\n",
        "mean, std = LLN_Prob_Model(M, lam, mu, T, x, y)\n",
        "lenght_IC = 2 * 1.96 * std / np.sqrt(M)\n",
        "\n",
        "print(\"Exact probability\")\n",
        "print(Prob_Model(M, lam, mu, T, x, y))\n",
        "print(\"\\n\")\n",
        "print(\"Monte Carlo Probability, Asymptotic Confidence interval 95%\")\n",
        "print(\"CI={:1.10f} +/- {:1.6f} \\n\".format(mean,lenght_IC/2))\n",
        "print(\"CI=[{:1.10f}, {:1.6f}] \\n\".format(mean-1.96*std/np.sqrt(M),mean+1.96*std/np.sqrt(M)))"
      ],
      "metadata": {
        "colab": {
          "base_uri": "https://localhost:8080/"
        },
        "id": "nM_YxU3T-_TO",
        "outputId": "030bc05d-1bd8-431a-a503-8b7da5eac73c"
      },
      "execution_count": null,
      "outputs": [
        {
          "output_type": "stream",
          "name": "stdout",
          "text": [
            "Exact probability\n",
            "0.6666666666666043\n",
            "\n",
            "\n",
            "Monte Carlo Probability, Asymptotic Confidence interval 95%\n",
            "CI=0.3343334333 +/- 0.009246 \n",
            "\n",
            "CI=[0.3250869978, 0.343580] \n",
            "\n"
          ]
        }
      ]
    },
    {
      "cell_type": "markdown",
      "source": [
        "**Estimation of the error of the Monte Carlo simulation.**\n",
        "\n",
        ""
      ],
      "metadata": {
        "id": "nouBNxZ0g_sc"
      }
    },
    {
      "cell_type": "code",
      "source": [
        "def vector_ln_err(M, lam, mu, vect_T, x):\n",
        "    pi = []\n",
        "    pi.append(lam / (lam + mu))\n",
        "    pi.append(mu / (lam + mu))\n",
        "    Err = []\n",
        "    for T in vect_T:\n",
        "        err_curr = np.abs(LLN_Prob_Model(M, lam, mu, T, x, 1)[0] - pi[1] + np.abs(LLN_Prob_Model(M, lam, mu, T, x, 0)[0] - pi[0]))\n",
        "        Err.append(np.log(err_curr))\n",
        "    return Err\n"
      ],
      "metadata": {
        "id": "8dPXwgBv_U6-"
      },
      "execution_count": null,
      "outputs": []
    },
    {
      "cell_type": "code",
      "source": [
        "M = 10000\n",
        "lam = 0.02\n",
        "mu = 0.01\n",
        "vect_T = [0.01, 0.1, 0.2, 0.5, 1, 2, 3, 5, 7, 10, 50]\n",
        "x = 1\n",
        "\n",
        "print(\"Invariant distribution\")\n",
        "print(\"pi=[{:1.6f},{:1.6f}]\".format(lam / (lam + mu), mu / (lam + mu)))\n",
        "error = vector_ln_err(M, lam, mu,vect_T,x)\n",
        "plt.plot(vect_T,error,label=\"Logarithm of the error\")\n",
        "title(\"Markov Jump process L1 convergence to pi,x0=\"+str(x),fontsize=12)\n",
        "legend(loc=\"best\")"
      ],
      "metadata": {
        "colab": {
          "base_uri": "https://localhost:8080/",
          "height": 504
        },
        "id": "unzH0_b4_d2Z",
        "outputId": "6496455e-63ef-48b5-eb0c-e745fabd3aaa"
      },
      "execution_count": null,
      "outputs": [
        {
          "output_type": "stream",
          "name": "stdout",
          "text": [
            "Invariant distribution\n",
            "pi=[0.666667,0.333333]\n"
          ]
        },
        {
          "output_type": "execute_result",
          "data": {
            "text/plain": [
              "<matplotlib.legend.Legend at 0x7f32660ed840>"
            ]
          },
          "metadata": {},
          "execution_count": 42
        },
        {
          "output_type": "display_data",
          "data": {
            "text/plain": [
              "<Figure size 640x480 with 1 Axes>"
            ],
            "image/png": "[encoded data removed]"
          },
          "metadata": {}
        }
      ]
    },
    {
      "cell_type": "markdown",
      "source": [
        "**Asymptotic Behavior**"
      ],
      "metadata": {
        "id": "Nqu06qln_WAV"
      }
    },
    {
      "cell_type": "code",
      "source": [
        "def func(x):\n",
        "    return (x + 1) ** 2"
      ],
      "metadata": {
        "id": "qbrILppX_UBS"
      },
      "execution_count": null,
      "outputs": []
    },
    {
      "cell_type": "code",
      "source": [
        "def vector_ergo_err(lam, mu, vect_T, x):\n",
        "    pi = []\n",
        "    pi.append(lam / (lam + mu))\n",
        "    pi.append(mu / (lam + mu))\n",
        "    Err = []\n",
        "    pi_func = func(0) * pi[0] + func(1) * pi[1]\n",
        "\n",
        "    path = simul_model(x, lam, mu, vect_T[-1])\n",
        "\n",
        "    func_path = np.zeros(np.size(path[1]))\n",
        "    for i in range(0, np.size(path[1])):\n",
        "        func_path[i] = func(path[1][i])\n",
        "    for T in vect_T:\n",
        "      integral = 0.\n",
        "      for i in range(0, np.size(path[1]) - 1):\n",
        "          if path[0][i + 1] < T:\n",
        "              integral = integral + (path[0][i + 1] - path[0][i]) * func_path[i]\n",
        "          else:\n",
        "              integral = integral + (T - path[0][i]) * func_path[i]\n",
        "              break\n",
        "      err_curr = np.abs(integral / T - pi_func)\n",
        "      Err.append(err_curr)\n",
        "    return Err\n"
      ],
      "metadata": {
        "id": "Ow9abc-I_Uhd"
      },
      "execution_count": null,
      "outputs": []
    },
    {
      "cell_type": "code",
      "source": [
        "lam = 0.2\n",
        "mu = 0.1\n",
        "vect_T = np.linspace(1.,1000.,num=100)\n",
        "x = 0\n",
        "\n",
        "error=vector_ergo_err(lam,mu,vect_T,x)\n",
        "plt.plot(vect_T,error,label=\"Error\")\n",
        "title(\"Ergodic theorem for f(x)=(x+1)^2,x0=\"+str(x),fontsize=12)\n",
        "legend(loc=\"best\")"
      ],
      "metadata": {
        "colab": {
          "base_uri": "https://localhost:8080/",
          "height": 469
        },
        "id": "CA9bwfNIDMIQ",
        "outputId": "4a10cb7a-0429-4206-fcb2-b8758e3d529b"
      },
      "execution_count": null,
      "outputs": [
        {
          "output_type": "execute_result",
          "data": {
            "text/plain": [
              "<matplotlib.legend.Legend at 0x7f3265feba30>"
            ]
          },
          "metadata": {},
          "execution_count": 45
        },
        {
          "output_type": "display_data",
          "data": {
            "text/plain": [
              "<Figure size 640x480 with 1 Axes>"
            ],
            "image/png": "[encoded data removed]"
          },
          "metadata": {}
        }
      ]
    },
    {
      "cell_type": "markdown",
      "source": [
        "**Numerical validation of the theoretical result**"
      ],
      "metadata": {
        "id": "OthxsEsKBXik"
      }
    },
    {
      "cell_type": "code",
      "source": [
        "def check_explosive(birth_rates):\n",
        "    \"\"\"\n",
        "    Check if a birth-death Markov jump process with the given birth rates is explosive.\n",
        "    \"\"\"\n",
        "    birth_rates = np.array(birth_rates)\n",
        "\n",
        "    sum_rates = np.sum(1 / birth_rates)\n",
        "    if sum_rates < np.inf:\n",
        "        # If the sum converges, the population does not explode almost surely\n",
        "        return False\n",
        "\n",
        "    # If the sum does not converge, calculate the expected time until the next birth event\n",
        "    expected_time = np.sum(1 / (np.delete(birth_rates, -1) + birth_rates[1:]))\n",
        "    if expected_time < np.inf:\n",
        "        # If the expected time remains bounded, the population does not explode almost surely\n",
        "        return False\n",
        "\n",
        "    return True"
      ],
      "metadata": {
        "id": "QVFlhWwMAMhG"
      },
      "execution_count": null,
      "outputs": []
    },
    {
      "cell_type": "code",
      "source": [
        "birth_rates = [1, 2, 3, 4, 5]\n",
        "result = check_explosive(birth_rates)\n",
        "print(result)"
      ],
      "metadata": {
        "colab": {
          "base_uri": "https://localhost:8080/"
        },
        "id": "YgAdrfXkB7yL",
        "outputId": "8c65298d-c463-4a3b-a643-baca473ce4f8"
      },
      "execution_count": null,
      "outputs": [
        {
          "output_type": "stream",
          "name": "stdout",
          "text": [
            "False\n"
          ]
        }
      ]
    }
  ]
}