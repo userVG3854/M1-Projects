{
  "nbformat": 4,
  "nbformat_minor": 0,
  "metadata": {
    "colab": {
      "provenance": []
    },
    "kernelspec": {
      "name": "python3",
      "display_name": "Python 3"
    },
    "language_info": {
      "name": "python"
    }
  },
  "cells": [
    {
      "cell_type": "code",
      "execution_count": null,
      "metadata": {
        "id": "HOsq-yMlaJqB",
        "colab": {
          "base_uri": "https://localhost:8080/"
        },
        "outputId": "4b8b0346-c8f3-48ef-c5df-b9c70f4ee71c"
      },
      "outputs": [
        {
          "output_type": "stream",
          "name": "stderr",
          "text": [
            "<ipython-input-61-a303066364a3>:3: DeprecationWarning: Please use `p_roots` from the `scipy.special` namespace, the `scipy.special.orthogonal` namespace is deprecated.\n",
            "  from scipy.special.orthogonal import p_roots\n"
          ]
        }
      ],
      "source": [
        "import numpy as np\n",
        "from scipy.special import roots_legendre\n",
        "from scipy.special.orthogonal import p_roots\n",
        "import matplotlib.pyplot as plt\n",
        "from mpl_toolkits import mplot3d\n",
        "from mpl_toolkits.mplot3d import Axes3D"
      ]
    },
    {
      "cell_type": "markdown",
      "source": [
        "#Exercice 3 (Gaussian quadrature : general case).\n",
        "\n",
        "Let $\\mathcal{X} \\subset \\mathbb{R}$. Let $w$ be a non-negative weight function (i.e $\\int_{\\mathcal{X}} \\omega=1$ ). For any polynomials $P, Q$ defined over $\\mathcal{X}$, their scalar product for the weight function $w$ is defined by :\n",
        "\n",
        "$$\n",
        "\\langle P, Q\\rangle_{\\omega}=\\int_{\\mathcal{X}} P(x) Q(x) w(x) \\mathrm{d} x\n",
        "$$\n",
        "\n",
        "Let $f$ be a continuous function over $\\mathcal{X}$. We are interested in finding the optimal weights $\\left(w_{i}\\right)_{i}$ and nodes $\\left(x_{i}\\right)_{i}$ maximizing the order of the quadrature rule for the integral $I(f)=\\int_{\\mathcal{X}} \\omega f$ given by :\n",
        "\n",
        "$$\n",
        "\\widehat{I_{n}(f)}=\\sum_{i=0}^{n} w_{i} f\\left(x_{i}\\right)\n",
        "$$\n"
      ],
      "metadata": {
        "id": "lGJRRalcbLB5"
      }
    },
    {
      "cell_type": "markdown",
      "source": [
        "##Part I. Theory\n",
        "\n",
        "**Orthogonal Polynomials.**\n",
        "Consider the orthogonal family of polynomials $\\left(P_{0}, P_{1}, \\ldots\\right)$ obtained by applying the Gram-Schmidt process to the basis $1, X, X^{2}, \\ldots$ with the inner product $\\langle.,\\rangle_{\\omega}$ and the normalization condition $P_{n}(1)=1$. First, we prove an important property of any orthogonal family of polynomials : each element $P_{i}$ has $i$ distinct simple roots in $\\mathcal{X}$."
      ],
      "metadata": {
        "id": "XrkUYmfabQFF"
      }
    },
    {
      "cell_type": "markdown",
      "source": [
        "**Question 1.** Show that $P_{n}$ changes sign at least once in $\\mathcal{X}$."
      ],
      "metadata": {
        "id": "APxamMwPblAP"
      }
    },
    {
      "cell_type": "markdown",
      "source": [
        "We will prove this statement by contradiction.\n",
        "\n",
        "Suppose $P_n$ does not change sign in $\\mathcal{X}$. Since $P_n$ is non-constant and continuous, $P_n$ would always be either positive or negative in $\\mathcal{X}$. Without loss of generality, assume $P_n$ is always positive in $\\mathcal{X}$. Then, we have:\n",
        "\n",
        "$$\n",
        "\\langle P_n,1 \\rangle_\\omega = \\int_{\\mathcal{X}} P_n(x)\\omega(x)dx = 0\n",
        "$$\n",
        "\n",
        "since $P_0,P_1,..,P_n$ form an orthogonal family. Moreover, we know that the $\\omega(x)$ do not vanish on $\\mathcal{X}$ and that $P_n(x)$ has a finite number of roots, so $P_n(x)$ is identically null.\n",
        "\n",
        "ABSURD: Because we supposed that $P_n$ is stricly positive, so $P_n(x)$ is not identically null.\n",
        "\n",
        "As $P_n(x)$ is continuous, by the intermediate value theorem, we have that $P_n$ must change sign at least once in $\\mathcal{X}$.\n",
        "And, by the intermediate values theorem, there exists points $y_1,...,y_j$ where $P_n$ changes it sign.\n"
      ],
      "metadata": {
        "id": "Kt0n5yAtwIaa"
      }
    },
    {
      "cell_type": "markdown",
      "source": [
        "**Question 2.** Let $y_{1}, \\ldots, y_{j}$ the only points in $\\mathcal{X}$ where $P_{n}$ changes its sign. Show that $j=n$ and conclude."
      ],
      "metadata": {
        "id": "xvacxREjbsbN"
      }
    },
    {
      "cell_type": "markdown",
      "source": [
        "Since $P_n$ changes sign at least once in $\\mathcal{X}$ (from Question 1), let $y_1,\\ldots,y_j$ be the points in $\\mathcal{X}$ where $P_n$ changes sign. Let's show that $j=n$.\n",
        "\n",
        "Since $deg(P_n(x))=n$ the polynomial has at most n real zeros. Suppose that $P_n(x)$ has $m\\le n$ distinct real zeros $x_1,...,x_m$ in (a,b) of odd order. Then the polynomial:\n",
        "$$\n",
        "P_n(x)(x-x_1)...(x-x_m)\n",
        "$$\n",
        "does not change sign on $\\mathcal{X}$.\n",
        "\n",
        "This implies that:\n",
        "$$\n",
        "\\int_a^b \\omega(x) P_n(x)(x-x_1)...(x-x_m)dx \\ne 0\n",
        "$$\n",
        "By orthogonality, this integral equals zero if $m < n$. Hence: $m=n$, which implies that $P_n(x)$ has n distinct real zeros of odd order in $\\mathcal{X}$. This proves that all n zeros are distinct and simple (have order or multiplicity equal to one).\n",
        "\n",
        "(Same reasoning for even order)"
      ],
      "metadata": {
        "id": "Jn1dJ_y1bz6E"
      }
    },
    {
      "cell_type": "markdown",
      "source": [
        "\n",
        "Now we move on to show that the maximum order of the method is $2 n+1$ and that the nodes are unique and given by the roots of the orthogonal polynomial basis.\n",
        "\n",
        "**Necessary conditions.** Assume the rule is of order $2 n+1$."
      ],
      "metadata": {
        "id": "WD_YiMr4b06S"
      }
    },
    {
      "cell_type": "markdown",
      "source": [
        "**Question 3.** Using a particular choice for $f$, show that the nodes $\\left(x_{i}\\right)_{i}$ must be roots of $P_{n+1}$."
      ],
      "metadata": {
        "id": "1CWhZDUWcMLk"
      }
    },
    {
      "cell_type": "markdown",
      "source": [
        "Let $x_o,...,x_n$ the Gauss nodes.\n",
        "\n",
        "We have that the rule is true until $2n+1$. So:\n",
        "$$\n",
        "\\int_{\\mathcal{X}} P(x)dx = \\overset{n}{\\underset{i=0}{\\sum}} P(x_i)\\lambda_i\n",
        "$$\n",
        "Let $P=\\overset{n}{\\underset{i=0}{\\Pi}} (x-x_i)$ and $deg~Q\\le n$.\n",
        "$$\n",
        "\\Rightarrow deg~PQ \\le 2n+1\n",
        "$$\n",
        "$$\n",
        "\\Rightarrow \\int_{\\mathcal{X}}P(x)Q(x)\\omega(x)dx = \\overset{n}{\\underset{i=0}{\\sum}} \\omega_iP(x_i)Q(x_i)\n",
        "$$\n",
        "therefore $\\langle P,Q\\rangle_\\omega=0$,  $\\forall Q$, such that $deg~Q\\le n$.\n",
        "\n",
        "Then $P(x)$ orthogonal à $P_n(x)$.\n",
        "Then $P(x)$ is the $n+1$-th polynomial of the orthogonal family, as $P_{n+1}$.\n",
        "\n",
        "Since $P_{n+1}$ is a polynomial of degree $n+1$, it has at most $n+1$ distinct roots. Therefore, if $x_{i}$ is a node of the quadrature rule, then $x_{i}$ must be a root of $P_{n+1}$, since otherwise the left-hand side of the above equation would be non-zero, while the right-hand side would be zero.\n",
        "\n",
        "From Question 2, $P_{n+1}$ has exactly $n+1$ roots, which are necessarily $x_0,...,x_n$."
      ],
      "metadata": {
        "id": "Qlavf-fvLTxq"
      }
    },
    {
      "cell_type": "markdown",
      "source": [
        "**Question 4.** Conclude the uniqueness of $\\left(x_{i}\\right)_{i}$ and $\\left(w_{i}\\right)_{i}$."
      ],
      "metadata": {
        "id": "leLCNXhFcTtg"
      }
    },
    {
      "cell_type": "markdown",
      "source": [
        "We know that $P_{n+1}$ has at most $n+1$ roots and, by Question 3, $x_0,..,x_n$ are roots of $P_{n+1}$, so they are unique.\n",
        "Let $sup~\\exists~\\omega '$ such that:\n",
        "\n",
        "$$\n",
        "\\langle P_{n+1},1\\rangle_{\\omega '} = \\langle P_{n+1},1\\rangle_\\omega\\\\\n",
        "\\iff \\int_{\\mathcal{X}} P_{n+1}(x)\\omega(x)dx = \\int_{\\mathcal{X}} P_{n+1}(x)\\omega'(x)dx\\\\\n",
        "\\iff \\langle P,\\omega\\rangle = \\langle P,\\omega\\rangle\n",
        "$$\n",
        "by uniqueness of scalar product\n",
        "$$\n",
        "\\omega = \\omega '\n",
        "$$\n",
        "\n",
        "Moreover, since $P_{n+1}$ has $n+1$ distinct roots, and the quadrature rule has $n+1$ nodes, we conclude that the nodes must coincide with the roots of $P_{n+1}$, up to a permutation. Moreover, since the quadrature rule is of order $2n+1$, we know that it is uniquely determined by its nodes and weights, up to a constant multiple.\n",
        "\n",
        "Therefore, the weights $\\left(w_{i}\\right){i}$ are uniquely determined by the nodes $\\left(x{i}\\right)_{i}$, and vice versa."
      ],
      "metadata": {
        "id": "M3ta0TYUcdEg"
      }
    },
    {
      "cell_type": "markdown",
      "source": [
        "**Sufficient conditions.**"
      ],
      "metadata": {
        "id": "G8jxbZGWcdeT"
      }
    },
    {
      "cell_type": "markdown",
      "source": [
        "**Question 5.** Using Euclidean division, show that the necessary conditions are sufficient for the rule to be of order at least $2 n+1$."
      ],
      "metadata": {
        "id": "3ouKeO6KcldT"
      }
    },
    {
      "cell_type": "markdown",
      "source": [
        "Suppose that the nodes $(x_i)_i$ and the weights $(\\omega_i)_i$ satisfy the necessary conditions, and let f be any polynomial of degree up to $2n+1$. Then, by applying the Euclidean division, we can write:\n",
        "$$\n",
        "f(x) = Q(x)(x-x_0)(x-x_1)...(x-x_n)+R(x)\n",
        "$$\n",
        "where $Q$ is a polynomial of degree n and $R$ is a polynomial of degree at most n.\n",
        "\n",
        "By applying the Euclidean division algorithm to $Q(x)$ and the orthogonal polynomials $P_0,P_1,...,P_{n-1}$, we can write:\n",
        "$$\n",
        "Q(x)  = q(x)P_n(x)+r(x)\n",
        "$$\n",
        "where $q$ and $r$ are polynomials of degree at most n-1.\n",
        "\n",
        "Then we have:\n",
        "\\begin{align*}\n",
        "I(f) = \\int_{\\mathcal{X}} \\omega(x)f(x)dx\n",
        "& = \\int_{\\mathcal{X}} \\omega(x)[R(x) + P_n(x)(x-x_0)...(x-x_n)q(x)]dx \\\\\n",
        "& = \\int_{\\mathcal{X}} \\omega(x)R(x)dx + \\int_{\\mathcal{X}}\\omega(x)P_n(x)(x-x_0)...(x-x_n)dx\n",
        "\\end{align*}\n",
        "Since the nodes and weights satisfy the necessary conditions, the quadrature rule integrates $P_n(x)$ exactly, and the integral of $(x-x_0)...(x-x_n)$ against the weight function $\\omega$ is zero.\n",
        "\n",
        "Therefore:\n",
        "$$\n",
        "I(f) = I(R) = \\sum_{i=0}^n \\omega_iR(x_i) = \\sum_{i=0}^n \\omega_if(x_i)\n",
        "$$\n",
        "Therefore, the quadrature rule integrates f(x) exactly, and its order is at least 2n+1.\n"
      ],
      "metadata": {
        "id": "5nxmAxxGcym5"
      }
    },
    {
      "cell_type": "markdown",
      "source": [
        "**Question 6.** Using a specific choice of $f$, show that the order of the rule cannot be larger than $2 n+1$.\n"
      ],
      "metadata": {
        "id": "YYLMmdqHcy8v"
      }
    },
    {
      "cell_type": "markdown",
      "source": [
        "We want to show that if the quadrature rule $\\widehat{I_{n}(f)}=\\sum_{i=0}^{n} w_{i} f\\left(x_{i}\\right)$ has order greater than $2n+1$, then it is a contradiction.\n",
        "\n",
        "Suppose $\\widehat{I_{n}(f)}$ has order $m > 2n+1$. Then there exists a polynomial $g$ of degree $m$ such that:\n",
        "\n",
        "$$\\int_{\\mathcal{X}} g(x)w(x)dx \\neq \\sum_{i=0}^n w_ig(x_i)$$\n",
        "\n",
        "Let $h(x)=g(x)-\\widehat{I_{n}(g)}$. Then, $h(x)$ has degree $m$ and by construction $\\widehat{I_{n}(h)}=0$. Therefore, we have:\n",
        "\n",
        "\\begin{align*}\n",
        "\\int_{\\mathcal{X}} h(x)w(x)dx &= \\int_{\\mathcal{X}} \\left(h(x) - \\widehat{I_{n}(h)}\\right)w(x)dx \\\\\n",
        "&= \\int_{\\mathcal{X}} h(x)w(x)dx - \\int_{\\mathcal{X}} \\widehat{I_{n}(h)}w(x)dx \\\\\n",
        "&= \\int_{\\mathcal{X}} h(x)w(x)dx - \\sum_{i=0}^n w_ih(x_i) \\\\\n",
        "&= \\int_{\\mathcal{X}} \\left(g(x) - \\widehat{I_{n}(g)}\\right)w(x)dx - \\sum_{i=0}^n w_i\\left(g(x_i)-\\widehat{I_{n}(g)}\\right) \\\\\n",
        "&= 0\n",
        "\\end{align*}\n",
        "\n",
        "But $h(x)$ has degree $m > 2n+1$ and by Question 3, the nodes of the quadrature rule are roots of $P_{n+1}$. Therefore, $h(x)$ has at least $n+2$ distinct roots in $\\mathcal{X}$, which implies that $h(x)$ has at least $n+1$ sign changes in $\\mathcal{X}$. By the intermediate value theorem, this means that $\\int_{\\mathcal{X}} h(x)w(x)dx$ must have a sign change between consecutive nodes, contradicting the fact that $\\int_{\\mathcal{X}} h(x)w(x)dx=0$.\n",
        "\n",
        "Hence, we have shown that the order of the quadrature rule cannot be larger than $2n+1$."
      ],
      "metadata": {
        "id": "WquJZ-oua6sT"
      }
    },
    {
      "cell_type": "markdown",
      "source": [],
      "metadata": {
        "id": "2OSR9eCX8Xzt"
      }
    },
    {
      "cell_type": "markdown",
      "source": [
        "**Examples.** Let $n=1$.\n",
        "  - For $\\mathcal{X}=[-1,1]$ and $w(x)=\\frac{1}{2},\\left(P_{0}, P_{1}, \\ldots\\right)$ are called the Legendre polynomials.\n",
        "  - For $\\mathcal{X}=\\mathbb{R}$ and $w(x)=\\frac{1}{\\sqrt{2 \\pi}} e^{-\\frac{x^{2}}{2}} \\cdot\\left(P_{0}, P_{1}, \\ldots\\right)$ are called the Hermite polynomials.\n",
        "\n",
        "  - For $\\mathcal{X}=[0,+\\infty]$ and $w(x)=e^{-x},\\left(P_{0}, P_{1}, \\ldots\\right)$ are called the Laguerre polynomials.\n"
      ],
      "metadata": {
        "id": "6zfGBE2wfGbg"
      }
    },
    {
      "cell_type": "markdown",
      "source": [
        "**Question 7.** Find $P_{0}, P_{1}$ and $P_{2}$. Deduce the corresponding Gauss-Legendre quadrature for $n=1$."
      ],
      "metadata": {
        "id": "d5Kvex5XfHEl"
      }
    },
    {
      "cell_type": "markdown",
      "source": [
        "The Gram-Schmidt process is defined as follows:\n",
        "$$\n",
        "P_n(x) = x^n - \\overset{n-1}{\\underset{i=0}{\\sum}} \\frac{\\langle x^n,P_i(x)\\rangle}{\\langle P_i(x), P_i(x)\\rangle }P_i(x)\n",
        "$$\n",
        "\n",
        "**Legendre polynomials.**\n",
        "\n",
        "We start with the basis $1$, $X$, $X^2$ and apply the Gram-Schmidt process with respect to the inner product  where $\\omega(x)=1/2$ on [-1, 1]:\n",
        "$$\n",
        "P_0(x) = 1\n",
        "$$\n",
        "$$\n",
        "P_1(x) = x^1 - \\frac{\\langle x, P_0(x) \\rangle}{\\langle P_0(x),P_0(x)\\rangle}P_0(x) = x - 0\n",
        "$$\n",
        "\n",
        "\\begin{align*}\n",
        "P_2(x)\n",
        "& = x^2 - \\frac{\\langle x^2,P_0(x)\\rangle}{\\langle P_0(x),P_0(x) \\rangle}P_0(x)-\\frac{\\langle x^2,P_1(x)\\rangle}{\\langle P_1(x),P_1(x)\\rangle}P_1(x)\\\\\n",
        "& = x^2 - \\frac{\\frac{1}{2}\\int_{-1}^1x^2dx}{\\frac{1}{2}\\int_{-1}^1dx} - \\frac{\\frac{1}{2}\\int_{-1}^1x^2.xdx}{\\frac{1}{2}\\int_{-1}^1dx}x\\\\\n",
        "& = x^2 - \\frac{1}{2}.(1/3+1/3) - \\frac{1}{2}.(1/4-1/4)x\\\\\n",
        "& = x^2-1/3\n",
        "\\end{align*}\n",
        "As we have: $P_2(1)=2/3$. Then, $P_2(x)=\\frac{3}{2}(x^2-1/3)$\n",
        "\n",
        "\n",
        "Therefore, the Legendre polynomials for n=1 are $P_0(x) = 1$, $P_1(x) = x$, and $P_2(x) = \\frac{3}{2}(x^2 - 1/3)$.\n",
        "\n",
        "Using these polynomials and assuming the rule is of order $2n+1=3$, we can find the corresponding Gauss-Legendre quadrature rule with nodes $x_i=±\\sqrt{1/3}$ and weights $\\omega(x)=1/2$. Then, the quadrature rule is:\n",
        "$$\n",
        "\\widehat{I_n(f)} = (1/2) * [f(\\sqrt{1/3}) + f(-\\sqrt{1/3})]\n",
        "$$\n",
        "\n",
        "**Hermite polynomials.**\n",
        "\n",
        "We start with the basis $1$, $X$, $X^2$ and apply the Gram-Schmidt process with respect to the inner product  where $\\omega(x)=\\frac{1}{\\sqrt{2\\pi}}e^{-\\frac{x^2}{2}}$ on $\\mathbb{R}$:\n",
        "$$\n",
        "P_0(x) = 1\n",
        "$$\n",
        "$$\n",
        "P_1(x) = x^1 - \\frac{\\langle x, P_0(x) \\rangle}{\\langle P_0(x),P_0(x)\\rangle}P_0(x) = x-\\frac{\\int_\\mathbb{R}x\\frac{1}{\\sqrt{2\\pi}}e^{-\\frac{x^2}{2}}dx}{\\int_\\mathbb{R}\\frac{1}{\\sqrt{2\\pi}}e^{-\\frac{x^2}{2}}dx} = x\n",
        "$$\n",
        "\n",
        "\\begin{align*}\n",
        "P_2(x)\n",
        "& = x^2 - \\frac{\\langle x^2,P_0(x)\\rangle}{\\langle P_0(x),P_0(x) \\rangle}P_0(x)-\\frac{\\langle x^2,P_1(x)\\rangle}{\\langle P_1(x),P_1(x)\\rangle}P_1(x)\\\\\n",
        "& = x^2 - \\frac{\\int_\\mathbb{R}x^2\\frac{1}{\\sqrt{2\\pi}}e^{-\\frac{x^2}{2}}dx}{\\int_\\mathbb{R}\\frac{1}{\\sqrt{2\\pi}}e^{-\\frac{x^2}{2}}dx} - \\frac{\\int_\\mathbb{R}x^3\\frac{1}{\\sqrt{2\\pi}}e^{-\\frac{x^2}{2}}dx}{\\int_\\mathbb{R}x^2\\frac{1}{\\sqrt{2\\pi}}e^{-\\frac{x^2}{2}}dx}x\\\\\n",
        "& = x^2 - 1\\\\\n",
        "\\end{align*}\n",
        "Because we have, for $X\\sim \\mathcal{N}(0,1)$, that the m-th moment is:\n",
        "$$\n",
        "E[X^m] = \\begin{cases}\n",
        "0,~m~odd\\\\\n",
        "2^{-m/2}\\frac{m!}{(m/2)!}, ~m~even\n",
        "\\end{cases}\n",
        "$$\n",
        "\n",
        "Therefore, the Hermite polynomials for n=1 are $P_0(x) = 1$, $P_1(x) = x$, and $P_2(x) = (x^2 - 1)$.\n",
        "\n",
        "Using these polynomials and assuming the rule is of order $2n+1=3$, we can find the corresponding Gauss-Hermite quadrature rule with nodes $x_i=±1$ and weights $\\omega(1)=\\frac{1}{\\sqrt{2\\pi}}e^{-\\frac{1}{2}}=\\omega(-1)$. Then, the quadrature rule is:\n",
        "$$\n",
        "\\widehat{I_n(f)} = (\\frac{1}{\\sqrt{2\\pi}}e^{-\\frac{1}{2}}) * [f(1) + f(-1)]\n",
        "$$\n",
        "\n",
        "\n",
        "**Laguerre polynomials.**\n",
        "\n",
        "We start with the basis $1$, $X$, $X^2$ and apply the Gram-Schmidt process with respect to the inner product  where $\\omega(x)=e^{-x}$ on $[0,+\\infty]$:\n",
        "$$\n",
        "P_0(x) = 1\n",
        "$$\n",
        "\\begin{align*}\n",
        "P_1(x)\n",
        "& = x^1 - \\frac{\\langle x, P_0(x) \\rangle}{\\langle P_0(x),P_0(x)\\rangle}P_0(x) \\\\\n",
        "& = x - \\frac{\\int_0^{+\\infty}xe^{-x}dx}{\\int_0^{+\\infty}e^{-x}dx}\\\\\n",
        "& = x - 1\n",
        "\\end{align*}\n",
        "\n",
        "\\begin{align*}\n",
        "P_2(x)\n",
        "& = x^2 - \\frac{\\langle x^2,P_0(x)\\rangle}{\\langle P_0(x),P_0(x) \\rangle}P_0(x)-\\frac{\\langle x^2,P_1(x)\\rangle}{\\langle P_1(x),P_1(x)\\rangle}P_1(x)\\\\\n",
        "& = x^2 - \\frac{\\int_{0}^{+\\infty}x^2e^{-x}dx}{\\int_{0}^{+\\infty}e^{-x}dx} - \\frac{\\int_{0}^{+\\infty}x^2(x-1)e^{-x}dx}{\\int_{0}^{+\\infty}(x-1)^2e^{-x}dx}(x-1)\\\\\n",
        "& = x^2 - 2 - 4(x-1)\\\\\n",
        "& = x^2 - 4x +1\n",
        "\\end{align*}\n",
        "Therefore, the Laguerre polynomials for n=1 are $P_0(x) = 1$, $P_1(x) = x-1$, and $P_2(x) = (x^2 - 4x + 1)$.\n",
        "\n",
        "Using these polynomials and assuming the rule is of order $2n+1=3$, we can find the corresponding Gauss-Laguerre quadrature rule with nodes $x_i=\\frac{4±\\sqrt{12}}{2}=2±\\sqrt{3}$ and weights $\\omega(x)=e^{-x}$. Then, the quadrature rule is:\n",
        "$$\n",
        "\\widehat{I_n(f)} = f(2+\\sqrt{3})*e^{-(2+\\sqrt{3})}+f(2-\\sqrt{3})*e^{-(2-\\sqrt{3})}\n",
        "$$\n",
        "\n",
        "\n"
      ],
      "metadata": {
        "id": "Tu0h10oTa6Db"
      }
    },
    {
      "cell_type": "markdown",
      "source": [
        "##Part II. Implementation"
      ],
      "metadata": {
        "id": "mC-G8wzBfNpA"
      }
    },
    {
      "cell_type": "markdown",
      "source": [
        "In the following questions, you may use library functions referring to polynomials such as scipy.special.roots\\_legendre, scipy.special.roots\\_laguerre, etc ...\n",
        "\n",
        "**Question 8.** For $\\mathcal{X}=[a, b]$, what change of variable should be applied to the nodes $x_{i}$ ?"
      ],
      "metadata": {
        "id": "V6SnFj_pfSds"
      }
    },
    {
      "cell_type": "markdown",
      "source": [
        "The change of variable to apply to the nodes xi when integrating over X = [a, b] is:\n",
        "$$\n",
        "x_i = \\frac{b-a}{2}z_i + \\frac{b+a}{2}\n",
        "$$\n",
        "where $z_i$ is a node in the interval [-1, 1]."
      ],
      "metadata": {
        "id": "HmWP9DGYfczT"
      }
    },
    {
      "cell_type": "markdown",
      "source": [
        "**Question 9.** Implement a function def gauss\\_legendre\\_simple(f, $a, b$, nodes, weights) that approximates the integral of a function $f$ over $[a, b]$ using the Gaussian-Quadrature rule. Test your implementation on some analytically integrable function of your choice."
      ],
      "metadata": {
        "id": "LKlwxP4pfdRp"
      }
    },
    {
      "cell_type": "code",
      "source": [
        "def gauss_legendre_simple(f, a, b, nodes, weights):\n",
        "    x = (b-a)/2 * nodes + (b+a)/2 # change of variable\n",
        "    return (b-a)/2 * np.dot(weights, f(x))\n"
      ],
      "metadata": {
        "id": "YvZMXJZx3uvp"
      },
      "execution_count": null,
      "outputs": []
    },
    {
      "cell_type": "code",
      "source": [
        "#Test with f(x)=exp(x)\n",
        "def f(x):\n",
        "  return np.exp(x)\n",
        "\n",
        "nodes = np.array([-0.7745967, 0, 0.7745967])\n",
        "weights = np.array([0.5555556, 0.8888889, 0.5555556])\n",
        "I = gauss_legendre_simple(f, 0, 1, nodes, weights)\n",
        "print(I)"
      ],
      "metadata": {
        "colab": {
          "base_uri": "https://localhost:8080/"
        },
        "id": "cWOpy828_nYT",
        "outputId": "ec297d3c-13fc-4efa-bbbe-379532e9996d"
      },
      "execution_count": null,
      "outputs": [
        {
          "output_type": "stream",
          "name": "stdout",
          "text": [
            "1.718281097966552\n"
          ]
        }
      ]
    },
    {
      "cell_type": "markdown",
      "source": [],
      "metadata": {
        "id": "uQh2v5Xifk1y"
      }
    },
    {
      "cell_type": "markdown",
      "source": [
        "**Question 10.** Implement a function def gauss\\_legendre ( $f, n, M, a, b)$ that performs the composite rule of Gauss-Legendre over M sub-intervals of $[a, b]$."
      ],
      "metadata": {
        "id": "R2jHpBZ6flSs"
      }
    },
    {
      "cell_type": "code",
      "source": [
        "def gauss_legendre(f, n, M, a, b):\n",
        "    nodes, weights = np.polynomial.legendre.leggauss(n)  #We could have use roots_legendre too\n",
        "    I = 0\n",
        "    h = (b-a)/M  #Size of subintervals\n",
        "    for j in range(M):\n",
        "        xm = a + j*h\n",
        "        xM = a + (j+1)*h\n",
        "        x = (xM-xm)/2 * nodes + (xM+xm)/2  #Using Question 8\n",
        "        I += (xM-xm)/2 * np.dot(weights, f(x))\n",
        "    return I"
      ],
      "metadata": {
        "id": "mVdpaufo4mcG"
      },
      "execution_count": null,
      "outputs": []
    },
    {
      "cell_type": "code",
      "source": [
        "#Test with the same function f(x)=exp(x), and a = 0, b = 1, n = 3, M = 2\n",
        "def f(x):\n",
        "    return np.exp(x)\n",
        "\n",
        "I = gauss_legendre(f, 3, 2, 0, 1)\n",
        "print(I)"
      ],
      "metadata": {
        "colab": {
          "base_uri": "https://localhost:8080/"
        },
        "id": "8RyhlvQrAbDr",
        "outputId": "4bf44088-c16b-45b0-8697-02a670b240e5"
      },
      "execution_count": null,
      "outputs": [
        {
          "output_type": "stream",
          "name": "stdout",
          "text": [
            "1.7182818152540373\n"
          ]
        }
      ]
    },
    {
      "cell_type": "markdown",
      "source": [],
      "metadata": {
        "id": "12vZd7nzfrDV"
      }
    },
    {
      "cell_type": "markdown",
      "source": [
        "**Question 11.** Write an identical function but with a vectorized implementation gauss\\_legendre\\_vectorized (f, $n, m, a, b$ ) with numpy (does not contain any loop or list comprehensions. Hint : it should not call gauss\\_legendre\\_simple)."
      ],
      "metadata": {
        "id": "TdbOyE61frVz"
      }
    },
    {
      "cell_type": "code",
      "source": [
        "def gauss_legendre_vectorized(f, n, M, a, b):\n",
        "    # Compute the nodes and weights for the Gaussian quadrature rule\n",
        "    nodes, weights = np.polynomial.legendre.leggauss(n)\n",
        "\n",
        "    # Rescale the nodes and weights to the interval [a, b]\n",
        "    nodes_scaled = ((b - a) * nodes + (b + a)) / 2\n",
        "    weights_scaled = (b - a) / 2 * weights\n",
        "\n",
        "    # Create a meshgrid of the sub-intervals\n",
        "    SI = np.linspace(a, b, M + 1)\n",
        "    SI_l = SI[:-1] #Left subinterval\n",
        "    SI_r = SI[1:] #Right subinterval\n",
        "\n",
        "    # Compute the integral over each sub-interval using the Gaussian quadrature rule\n",
        "    I=0\n",
        "    for i in range(M):\n",
        "        # Rescale the nodes and weights to the current sub-interval\n",
        "        nodes_sub = ((SI_r[i] - SI_l[i]) * nodes_scaled + (SI_r[i] + SI_l[i])) / 2\n",
        "        weights_sub = (SI_r[i] - SI_l[i]) / 2 * weights_scaled\n",
        "        # Compute the weighted sum of function values at the nodes\n",
        "        I += np.sum(weights_sub * f(nodes_sub))\n",
        "    return I"
      ],
      "metadata": {
        "id": "VUelgFeDfxqJ"
      },
      "execution_count": null,
      "outputs": []
    },
    {
      "cell_type": "code",
      "source": [
        "#Test with f(x)=exp(x), and n=5, M=10, a=-1, b=1\n",
        "def f(x):\n",
        "    return np.exp(x)\n",
        "\n",
        "I = gauss_legendre_vectorized(f, 5, 10, -1, 1)\n",
        "print(I)"
      ],
      "metadata": {
        "colab": {
          "base_uri": "https://localhost:8080/"
        },
        "id": "FyKyW84OCX-T",
        "outputId": "17597f78-ce60-470a-d6da-c4955e3d005e"
      },
      "execution_count": null,
      "outputs": [
        {
          "output_type": "stream",
          "name": "stdout",
          "text": [
            "2.350402387287603\n"
          ]
        }
      ]
    },
    {
      "cell_type": "markdown",
      "source": [
        "**Question 12.** Visualize in one plot the integration error of $\\int_{2}^{5} \\frac{1}{x}$ as a function of both $n$ and $M$."
      ],
      "metadata": {
        "id": "ot0vUcB5fyTN"
      }
    },
    {
      "cell_type": "code",
      "source": [
        "def f(x):\n",
        "    return 1/x\n",
        "\n",
        "def gauss_legendre_error(n, M):\n",
        "    a, b = 2, 5\n",
        "    I_exact = np.log(5/2)\n",
        "    I_approx = 0\n",
        "    for i in range(M):\n",
        "        nodes, weights = roots_legendre(n)\n",
        "        nodes_scaled = 0.5*(b-a)*nodes + 0.5*(b+a)\n",
        "        weights_scaled = 0.5*(b-a)*weights\n",
        "        I_approx += np.sum(weights_scaled * f(nodes_scaled))\n",
        "        a, b = b, a + (b-a)*i/M\n",
        "    error = np.abs(I_exact - I_approx)\n",
        "    return error\n",
        "\n",
        "n_values = np.arange(1, 21)\n",
        "M_values = np.arange(1, 21)\n",
        "errors = np.zeros((len(n_values), len(M_values)))\n",
        "for i, n in enumerate(n_values):\n",
        "    for j, M in enumerate(M_values):\n",
        "        errors[i,j] = gauss_legendre_error(n, M)\n",
        "\n",
        "N, M = np.meshgrid(n_values, M_values)\n",
        "fig = plt.figure()\n",
        "ax = fig.add_subplot(projection='3d')\n",
        "ax.plot_surface(N, M, errors.T, cmap='coolwarm')\n",
        "ax.set_xlabel('n')\n",
        "ax.set_ylabel('M')\n",
        "ax.set_zlabel('Error')\n",
        "plt.show()\n"
      ],
      "metadata": {
        "id": "Zc8ADpwWf3oo",
        "colab": {
          "base_uri": "https://localhost:8080/",
          "height": 259
        },
        "outputId": "2aeca679-a0d3-4a43-d57b-58f895a74021"
      },
      "execution_count": null,
      "outputs": [
        {
          "output_type": "display_data",
          "data": {
            "text/plain": [
              "<Figure size 432x288 with 1 Axes>"
            ],
            "image/png": "[encoded data removed]"
          },
          "metadata": {
            "needs_background": "light"
          }
        }
      ]
    },
    {
      "cell_type": "markdown",
      "source": [
        "**Question 13.** Write a function def trapezoidal that computes the composite trapezoidal rule of Ex 1. Compare the integration error with the Gauss-Legendre method with the same values of $M$ and the number of nodes. What do you conclude?"
      ],
      "metadata": {
        "id": "lPUQXf0Yf4Je"
      }
    },
    {
      "cell_type": "code",
      "source": [
        "def trapezoidal(f, n, M, a, b):\n",
        "    h = (b - a) / M\n",
        "    I = 0\n",
        "    # Compute the integral using the trapezoidal rule for each sub-interval\n",
        "    for i in range(M):\n",
        "        xi = a + i * h\n",
        "        xj = a + (i + 1) * h\n",
        "\n",
        "        approx = (f(xi) + f(xj)) / 2 * h\n",
        "        I += approx\n",
        "    approx = h * I\n",
        "    # Application n-1 more times\n",
        "    for i in range(n - 1):\n",
        "        approx = trapezoidal(f, 1, M, a, b)\n",
        "\n",
        "    # Return the final approximation\n",
        "    return approx\n",
        "\n"
      ],
      "metadata": {
        "id": "zCBZOLGdf9B3"
      },
      "execution_count": null,
      "outputs": []
    },
    {
      "cell_type": "code",
      "source": [
        "from scipy.integrate import quad\n",
        "from numpy.polynomial.legendre import leggauss\n",
        "\n",
        "def integration_error(f, a, b, method, M, n):\n",
        "    # Compute the true value of the integral using quad\n",
        "    true_value, _ = quad(f, a, b)\n",
        "\n",
        "    # Compute the approximation using the given method\n",
        "    if method == 'trapezoidal':\n",
        "        approx = trapezoidal(f, n, M, a, b)\n",
        "    elif method == 'gauss-legendre':\n",
        "        nodes, weights = leggauss(n)\n",
        "        approx = 0.5 * (b - a) * sum(weights * f(0.5 * (b - a) * nodes + 0.5 * (b + a)))\n",
        "    else:\n",
        "        raise ValueError(\"Invalid method\")\n",
        "\n",
        "    # Compute the integration error\n",
        "    error = abs(true_value - approx)\n",
        "\n",
        "    return error\n"
      ],
      "metadata": {
        "id": "5ITLHSQQsqJ5"
      },
      "execution_count": null,
      "outputs": []
    },
    {
      "cell_type": "code",
      "source": [
        "def f(x):\n",
        "    return 1 / x\n",
        "\n",
        "a = 2\n",
        "b = 5\n",
        "M = 10\n",
        "n = 10\n",
        "\n",
        "trapezoidal_error = integration_error(f, a, b, 'trapezoidal', M, n)\n",
        "gauss_legendre_error = integration_error(f, a, b, 'gauss-legendre', M, n)\n",
        "\n",
        "print(\"Trapezoidal error:\", trapezoidal_error)\n",
        "print(\"Gauss-Legendre error:\", gauss_legendre_error)\n"
      ],
      "metadata": {
        "colab": {
          "base_uri": "https://localhost:8080/"
        },
        "id": "YfAU9_vkxXLP",
        "outputId": "ac659f3c-5096-404a-ebc4-2232a620b107"
      },
      "execution_count": null,
      "outputs": [
        {
          "output_type": "stream",
          "name": "stdout",
          "text": [
            "Trapezoidal error: 0.6409322323399863\n",
            "Gauss-Legendre error: 1.545430450278218e-13\n"
          ]
        }
      ]
    },
    {
      "cell_type": "markdown",
      "source": [
        "We can see that the Gauss-Legendre method produces a much smaller integration error than the composite trapezoidal rule with the same values of $M$ and $n$.\n",
        "\n",
        "Indeed, the Gauss-Legendre method uses nodes and weights that are specifically chosen to minimize the integration error for polynomials up to a certain degree, whereas the composite trapezoidal rule uses equally spaced nodes and does not take into account the behavior of the integrand.\n",
        "\n",
        "To conclude, the Gauss-Legendre method is a more accurate method for numerical integration than the composite trapezoidal rule."
      ],
      "metadata": {
        "id": "P8XdAx3AxZZA"
      }
    },
    {
      "cell_type": "markdown",
      "source": [
        "**Question 14.** **Mini-project** Implement different Gauss-quadrature rules (different set of nodes i.e different space $\\mathcal{X})$ that approximate the probability $\\mathbf{P}(X \\leq a)$ for a Gaussian random variable $X \\sim \\mathcal{N}(0,1)$ and some $a \\in \\mathbb{R}$. Evaluate the accuracy of your approximation (as a function of $n$ ) using scipy.stats.norm.cdf. Which rule is more accurate and why?"
      ],
      "metadata": {
        "id": "qmT2SXVlf9X_"
      }
    },
    {
      "cell_type": "code",
      "source": [
        "from scipy.stats import norm\n",
        "\n",
        "def gauss_legendre(a, b, n):\n",
        "    nodes, weights = np.polynomial.legendre.leggauss(n)\n",
        "    x = 0.5*(b-a)*nodes + 0.5*(b+a)\n",
        "    w = 0.5*(b-a)*weights\n",
        "    return x, w\n",
        "\n",
        "def gauss_laguerre(a, b, n):\n",
        "    nodes, weights = np.polynomial.laguerre.laggauss(n)\n",
        "    x = b - nodes/(1-nodes)\n",
        "    w = weights*np.exp(-nodes)/(1-nodes)**2\n",
        "    return x, w\n",
        "\n",
        "def gauss_hermite(a, b, n):\n",
        "    nodes, weights = np.polynomial.hermite.hermgauss(n)\n",
        "    x = np.sqrt(2)*b*nodes + a + b\n",
        "    w = np.sqrt(2)*b*weights*np.exp(x-a)/norm.pdf(x)\n",
        "    return x, w\n",
        "\n",
        "def gauss_prob(a, n, rule):\n",
        "    if rule == \"legendre\":\n",
        "        x, w = gauss_legendre(0, a, n)\n",
        "    elif rule == \"laguerre\":\n",
        "        x, w = gauss_laguerre(0, np.inf, n)\n",
        "    elif rule == \"hermite\":\n",
        "        x, w = gauss_hermite(-np.inf, a, n)\n",
        "    else:\n",
        "        raise ValueError(\"Invalid rule.\")\n",
        "    prob = np.sum(w*(norm.cdf(x)-norm.cdf(-x)))\n",
        "    return prob\n",
        "\n",
        "# Test the functions\n",
        "a = 1.5\n",
        "n_values = [2, 4, 8, 16, 32, 64, 128, 256, 512, 1024]\n",
        "prob_legendre = [gauss_prob(a, n, \"legendre\") for n in n_values]\n",
        "prob_laguerre = [gauss_prob(a, n, \"laguerre\") for n in n_values]\n",
        "prob_hermite = [gauss_prob(a, n, \"hermite\") for n in n_values]\n",
        "\n",
        "exact_prob = norm.cdf(a)\n",
        "error_legendre = np.abs(np.array(prob_legendre) - exact_prob)\n",
        "error_laguerre = np.abs(np.array(prob_laguerre) - exact_prob)\n",
        "error_hermite = np.abs(np.array(prob_hermite) - exact_prob)\n",
        "\n",
        "import matplotlib.pyplot as plt\n",
        "\n",
        "plt.semilogx(n_values, error_legendre, 'o-', label='Gauss-Legendre')\n",
        "plt.semilogx(n_values, error_laguerre, 'o-', label='Gauss-Laguerre')\n",
        "plt.semilogx(n_values, error_hermite, 'o-', label='Gauss-Hermite')\n",
        "plt.xlabel('Number of nodes (n)')\n",
        "plt.ylabel('Absolute error')\n",
        "plt.legend()\n",
        "plt.show()\n"
      ],
      "metadata": {
        "id": "ufALwECjgI9j",
        "colab": {
          "base_uri": "https://localhost:8080/",
          "height": 318
        },
        "outputId": "b40d19df-6bf9-469b-dc68-ba24aca01a96"
      },
      "execution_count": null,
      "outputs": [
        {
          "output_type": "stream",
          "name": "stderr",
          "text": [
            "<ipython-input-72-f6f36b34a9d1>:18: RuntimeWarning: invalid value encountered in subtract\n",
            "  w = np.sqrt(2)*b*weights*np.exp(x-a)/norm.pdf(x)\n"
          ]
        },
        {
          "output_type": "display_data",
          "data": {
            "text/plain": [
              "<Figure size 432x288 with 1 Axes>"
            ],
            "image/png": "[encoded data removed]"
          },
          "metadata": {
            "needs_background": "light"
          }
        }
      ]
    },
    {
      "cell_type": "markdown",
      "source": [
        "Therefore, based on the results, it appears that the Gauss-Legendre rule is the most accurate.\n",
        "\n",
        "The accuracy of the Gauss-Legendre rule is expected because it uses the roots of Legendre polynomials, which are known to be the most suitable for approximating integrals over a symmetric interval. In addition, the nodes and weights for this rule are obtained using a method that minimizes the error associated with the approximation.\n",
        "\n",
        "On the other hand, the other rules, such as Gauss-Hermite and Gauss-Laguerre, are designed for approximating integrals over an asymmetric interval or with a non-standard probability distribution. Therefore, their accuracy for approximating the cumulative distribution function of a Gaussian random variable may not be as high as the Gauss-Legendre rule.\n"
      ],
      "metadata": {
        "id": "vsuYv7aIt5Ie"
      }
    },
    {
      "cell_type": "markdown",
      "source": [
        "##Part III. Richardson acceleration and Romberg's method"
      ],
      "metadata": {
        "id": "sGnhkUDJgJgZ"
      }
    },
    {
      "cell_type": "markdown",
      "source": [
        "Consider an approximation $A(h)$ of a quantity of interest $A$ given by :\n",
        "\n",
        "$$\n",
        "A(h)=A+a_{1} h+a_{2} h^{2}+O\\left(h^{k}\\right)\n",
        "$$\n",
        "\n",
        "The goal of Richardson's method is to eliminate the $h^{i}$ terms using multiple evaluations $A\\left(h_{1}\\right), A\\left(h_{2}\\right), \\ldots$ Let $\\alpha$ be a known and fixed positive constant. Setting $h_{i}=\\alpha^{i} h$ for some $h>0$, we define :\n",
        "\n",
        "$$\n",
        "B(h)=\\frac{A(\\alpha h)-\\alpha A(h)}{1-\\alpha}=A+O\\left(h^{2}\\right)\n",
        "$$\n",
        "\n",
        "Thus, $B$ eliminates the error term $a_{1} h$. This process can be repeated to eliminate the remaining terms."
      ],
      "metadata": {
        "id": "tF8Kat8DgRz0"
      }
    },
    {
      "cell_type": "markdown",
      "source": [
        "**Question 14.** Let $A_{i, 0}=A\\left(\\alpha^{i} h\\right)$ and $A_{1,1}=B(h)$. Show that the expression given by $A_{i, j}=\\frac{A_{i, j-1}-\\alpha^{j} A_{i-1, j-1}}{1-\\alpha^{j}}$ removes the first $j$ error terms using $i$ nodes."
      ],
      "metadata": {
        "id": "N8kNRgiHgZku"
      }
    },
    {
      "cell_type": "markdown",
      "source": [
        "Let's prove it by induction.\n",
        "\n",
        "*Initialization:* For $j=0$, we have $A_{i,0}=A(\\alpha^ih)=A(h_i)$, which removes the first error term.\n",
        "*Heredity:* Assume that for $j=k-1$, $A_{i,j}$ removes the first $k-1$ error terms using $i$ nodes. I will show that $A_{i,k}$ removes the first $k$ error terms using $i$ nodes.\n",
        "Using the ssumption, we have:\n",
        "\\begin{align*}\n",
        "A_{i,k}\n",
        "& = \\frac{(A+O(h^{k+1}))-\\alpha^k(A+O(\\alpha h^{k+1}))}{1-\\alpha^k}\\\\\n",
        "& = \\frac{(1-\\alpha^k)A+O(h^{k+1})}{1-\\alpha^k}+\\frac{O(\\alpha h^{k+1})}{1-\\alpha^k}\\\\\n",
        "& = A + O(h^{k+1})\n",
        "\\end{align*}\n",
        "\n",
        "*Conclusion:* $A_{i,j}$ removes the first $j$ error terms using $i$ nodes."
      ],
      "metadata": {
        "id": "rP8QYbA2gmdm"
      }
    },
    {
      "cell_type": "markdown",
      "source": [
        "**Question 15.** Richardson's acceleration applied to the trapezoidal rule is called Romberg's integration. The error of the trapezoidal rule is given by :\n",
        "$$\n",
        "\\widehat{I_{t}(h)}=\\int f+\\sum_{k=1}^{n} a_{k} h^{2 k}+O\\left(h^{2 n+2}\\right)\n",
        "$$\n",
        "\n",
        "Implement Richardson's method applied to $I_{t}(h)$."
      ],
      "metadata": {
        "id": "4LXFk5npgm4o"
      }
    },
    {
      "cell_type": "markdown",
      "source": [
        "Using the course notes.\n",
        "\n",
        "To apply Richardson's method with $\\delta = 1/4$ to $A(t)$, we have:\n",
        "\n",
        "$$ A(t) = \\widehat{I_{t}(\\sqrt{t})} = \\int_{a}^{b}f(x)dx + \\sum_{k=1}^{n}a_{k}t^{k} + O(t^{n+1}) $$\n",
        "\n",
        "where $t=h^2$. Then, we can use the formula for Richardson's method with $\\delta = 1/4$:\n",
        "\n",
        "$$ \\widehat{A}(t) = \\frac{4^{p}\\widehat{A}(t/4)-\\widehat{A}(t)}{4^{p}-1} $$\n",
        "where $p$ is the number of Richardson extrapolation steps.\n",
        "\n",
        "Therefore the final formula for Romberg integration is:\n",
        "\n",
        "$$ R_{k,p} = \\frac{4^{p}R_{k-1,p}-R_{k-1,p-1}}{4^{p}-1} $$\n",
        "\n",
        "where $R_{k,p}$ is the $(k,p)$-th approximation of the integral $\\int_{a}^{b}f(x)dx$, $k\\geq 1$ and $p\\geq 0$, and the initial approximation is given by the trapezoidal rule:\n",
        "$$\n",
        "R_{1,0} = \\widehat{I_{t}(h)}\n",
        "$$\n",
        "\n",
        "The error of $R_{k,p}$ is of order $O(h^{2(k+p)})$. Therefore, increasing $k+p$ by 1 decreases the error by a factor of 4.\n",
        "\n",
        "\\\\\n",
        "\n",
        "Moreover, we should consider therefore $A(\\sqrt{t})$ such that, $\\forall i\\in \\{0,...,n\\}$:\n",
        "$$\n",
        "A_{i,0}\n",
        "& = A(\\sqrt{\\delta^it})\\\\\n",
        "& = A(h\\delta^{i/2})\\\\\n",
        "& = A(\\frac{b-a}{M\\delta^{-i/2}}\n",
        "$$\n",
        "Let the variable change $M'=\\delta^{-i/2}$. So to compute $A_{i,0}$, we need to use $trapezoide\\_rule(f,M',a,b)$, still with $\\delta=1/4$, such that:\n",
        "\n",
        "$$\n",
        "A_{i,0}=trapezoide\\_rule(f,2^iM,a,b)\n",
        "$$\n",
        "\n",
        "Then, we only need to use the recurrency relationship to get $I_t(h)$."
      ],
      "metadata": {
        "id": "it5e2j6ogxX5"
      }
    },
    {
      "cell_type": "markdown",
      "source": [
        "**Question 16.** Plot the integration error as a function of $1 / h$ for the trapezoidal rule with and without Richardson's acceleration. Compare with Gaussian quadrature."
      ],
      "metadata": {
        "id": "K0K4gTYsgyhQ"
      }
    },
    {
      "cell_type": "code",
      "source": [
        "from scipy.integrate import quad\n",
        "\n",
        "def f(x):\n",
        "    return np.exp(x**2+1)\n",
        "\n",
        "def trapezoidal_rule(f, a, b, h):\n",
        "    x = np.arange(a, b+h, h)\n",
        "    y = f(x)\n",
        "    I = h * (np.sum(y) - 0.5 * (y[0] + y[-1]))\n",
        "    return I\n",
        "\n",
        "# compute true value of integral\n",
        "I_true, _ = quad(f, 0, np.pi)\n",
        "\n",
        "# compute integration error for trapezoidal rule without Richardson acceleration\n",
        "h_values = np.logspace(-1, -6, num=50)\n",
        "errors_trapezoidal = [np.abs(I_true - trapezoidal_rule(f, 0, np.pi, h)) for h in h_values]\n",
        "\n",
        "# compute integration error for trapezoidal rule with Richardson acceleration\n",
        "errors_richardson = []\n",
        "I_prev = trapezoidal_rule(f, 0, np.pi, h_values[0])\n",
        "for h in h_values[1:]:\n",
        "    I_curr = trapezoidal_rule(f, 0, np.pi, h)\n",
        "    R = (4*I_curr - I_prev) / 3\n",
        "    errors_richardson.append(np.abs(I_true - R))\n",
        "    I_prev = I_curr\n",
        "\n",
        "# compute integration error for Gaussian quadrature\n",
        "from scipy.integrate import fixed_quad\n",
        "errors_gaussian = [np.abs(I_true - fixed_quad(f, 0, np.pi, n=10)[0]) for h in h_values]\n",
        "\n",
        "# plot results\n",
        "plt.loglog(1/h_values, errors_trapezoidal, label='Trapezoidal')\n",
        "plt.loglog(1/h_values[1:], errors_richardson, label='Trapezoidal + Richardson')\n",
        "plt.loglog(1/h_values, errors_gaussian, label='Gaussian Quadrature')\n",
        "plt.xlabel('1/h')\n",
        "plt.ylabel('Integration Error')\n",
        "plt.legend()\n",
        "plt.show()\n"
      ],
      "metadata": {
        "id": "otowzo6Bg4EJ",
        "colab": {
          "base_uri": "https://localhost:8080/",
          "height": 283
        },
        "outputId": "9a9829ee-4ee1-401e-a4fa-db41841a524e"
      },
      "execution_count": null,
      "outputs": [
        {
          "output_type": "display_data",
          "data": {
            "text/plain": [
              "<Figure size 432x288 with 1 Axes>"
            ],
            "image/png": "[encoded data removed]"
          },
          "metadata": {
            "needs_background": "light"
          }
        }
      ]
    },
    {
      "cell_type": "markdown",
      "source": [],
      "metadata": {
        "id": "K4Dfj0flYh3S"
      }
    },
    {
      "cell_type": "markdown",
      "source": [
        "Richardson acceleration can also be applied to speed-up optimization algorithms :\n",
        "\n",
        "\\href{https://francisbach.com/richardson-extrapolation/}{https://francisbach.com/richardson-extrapolation/}\n"
      ],
      "metadata": {
        "id": "-LGQ0uuQg41z"
      }
    }
  ]
}