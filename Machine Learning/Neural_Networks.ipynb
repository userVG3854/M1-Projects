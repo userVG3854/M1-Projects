{
  "cells": [
    {
      "cell_type": "markdown",
      "metadata": {
        "id": "I55GLkr4qoYi"
      },
      "source": [
        "# Classification using neural networks\n",
        "\n",
        "We study here the performance of feedforward neural networks to classify digits in the MNIST set.\n",
        "\n",
        "**There are 2 questions to answer.**"
      ]
    },
    {
      "cell_type": "code",
      "execution_count": null,
      "metadata": {
        "id": "77CHrAbIqoYj"
      },
      "outputs": [],
      "source": [
        "import os\n",
        "import tensorflow as tf\n",
        "import numpy as np\n",
        "import matplotlib.pyplot as plt\n",
        "\n",
        "import torch\n",
        "import torch.nn as nn\n",
        "import torchvision\n",
        "import torchvision.transforms as transforms\n",
        "\n",
        "# set up the random number generator: given seed for reproducibility, None otherwise\n",
        "# (see https://numpy.org/doc/stable/reference/random/generator.html#numpy.random.default_rng)\n",
        "my_seed = 1\n",
        "rng = np.random.default_rng(seed=my_seed)"
      ]
    },
    {
      "cell_type": "markdown",
      "metadata": {
        "id": "ea801AThqoYl"
      },
      "source": [
        "## Construction of the dataset\n",
        "\n",
        "We use the MNIST dataset already encountered in various hands-on sessions. We download it through PyTorch here (note: I had to run \"jupyter nbextension enable --py widgetsnbextension\" in the command line for this to work; maybe also \"pip3 install --upgrade ipywidgets\")."
      ]
    },
    {
      "cell_type": "code",
      "execution_count": null,
      "metadata": {
        "scrolled": true,
        "id": "KXalLDf_qoYm"
      },
      "outputs": [],
      "source": [
        "full_train_dataset = torchvision.datasets.MNIST(root='./data',train=True,transform=transforms.ToTensor(),download=True)\n",
        "full_test_dataset = torchvision.datasets.MNIST(root='./data',train=False,transform=transforms.ToTensor(),download=True)"
      ]
    },
    {
      "cell_type": "markdown",
      "metadata": {
        "id": "PnjN6SBEqoYn"
      },
      "source": [
        "We first explore the format of the dataset."
      ]
    },
    {
      "cell_type": "code",
      "execution_count": null,
      "metadata": {
        "colab": {
          "base_uri": "https://localhost:8080/"
        },
        "id": "xr-hC6TbqoYo",
        "outputId": "13185a1e-bd40-47a5-bbce-a7e3e632e233"
      },
      "outputs": [
        {
          "output_type": "stream",
          "name": "stdout",
          "text": [
            "Dataset MNIST\n",
            "    Number of datapoints: 60000\n",
            "    Root location: ./data\n",
            "    Split: Train\n",
            "    StandardTransform\n",
            "Transform: ToTensor()\n",
            "\n",
            "format of train data: torch.uint8\n",
            "Dataset MNIST\n",
            "    Number of datapoints: 10000\n",
            "    Root location: ./data\n",
            "    Split: Test\n",
            "    StandardTransform\n",
            "Transform: ToTensor()\n",
            "\n",
            "format of test data: torch.uint8\n"
          ]
        }
      ],
      "source": [
        "print(full_train_dataset)\n",
        "print(\"\\nformat of train data:\",full_train_dataset.data.dtype)\n",
        "print(full_test_dataset)\n",
        "print(\"\\nformat of test data:\",full_train_dataset.data.dtype)"
      ]
    },
    {
      "cell_type": "markdown",
      "metadata": {
        "id": "ja8sV4HoqoYo"
      },
      "source": [
        "We next construct a training set and a validation set out of the full training set. In order to make the training faster, we can reduce the size of the dataset if we want."
      ]
    },
    {
      "cell_type": "code",
      "execution_count": null,
      "metadata": {
        "id": "iR4-zz6sqoYp"
      },
      "outputs": [],
      "source": [
        "reduced_length = 50000\n",
        "validation_length = 10000\n",
        "# check whether we go out of bounds in terms of use of training data points\n",
        "assert(reduced_length+validation_length<=full_train_dataset.data.shape[0])\n",
        "# we can then extract the corresponding indices\n",
        "indices_train = range(reduced_length)\n",
        "indices_validation = range(reduced_length,reduced_length+validation_length)\n",
        "train_dataset = torch.utils.data.Subset(full_train_dataset, indices=indices_train)\n",
        "validation_dataset = torch.utils.data.Subset(full_train_dataset, indices=indices_validation)"
      ]
    },
    {
      "cell_type": "markdown",
      "metadata": {
        "id": "y7Lc5aEnqoYp"
      },
      "source": [
        "We can plot the first elements of the resulting data set in order to see what they looks like."
      ]
    },
    {
      "cell_type": "code",
      "execution_count": null,
      "metadata": {
        "scrolled": true,
        "colab": {
          "base_uri": "https://localhost:8080/",
          "height": 347
        },
        "id": "euiHl1viqoYq",
        "outputId": "a89d33ab-c632-449e-9525-f9fd690d24b7"
      },
      "outputs": [
        {
          "output_type": "display_data",
          "data": {
            "text/plain": [
              "<Figure size 1000x400 with 10 Axes>"
            ],
            "image/png": "[encoded data removed]"
          },
          "metadata": {}
        }
      ],
      "source": [
        "plt.figure(figsize=(10, 4))\n",
        "\n",
        "picture_loader = torch.utils.data.DataLoader(dataset=validation_dataset,batch_size=25,shuffle=True)\n",
        "examples = iter(picture_loader)\n",
        "example_data, example_labels = next(examples)\n",
        "\n",
        "for i in range(10):\n",
        "    plt.subplot(2, 5, i+1)\n",
        "    plt.xticks([])\n",
        "    plt.yticks([])\n",
        "    plt.grid(False)\n",
        "    # color map = binary, other choices here https://matplotlib.org/stable/tutorials/colors/colormaps.html\n",
        "    plt.imshow(example_data[i][0].reshape(28,28), cmap=plt.cm.binary)\n",
        "    plt.title(example_labels[i].item())\n",
        "plt.show()"
      ]
    },
    {
      "cell_type": "markdown",
      "metadata": {
        "id": "cA6T9nodqoYr"
      },
      "source": [
        "## Introducing neural networks\n",
        "\n",
        "We first introduce the class of neural networks we consider. Activation functions and topology can be modified."
      ]
    },
    {
      "cell_type": "code",
      "execution_count": null,
      "metadata": {
        "id": "VN39NMTfqoYs"
      },
      "outputs": [],
      "source": [
        "class NeuralNet(nn.Module):\n",
        "\n",
        "    def __init__(self, input_size, hidden_size, num_classes):\n",
        "         super(NeuralNet, self).__init__()\n",
        "         self.input_size = input_size\n",
        "         self.relu = nn.ReLU()\n",
        "         self.layer_1 = nn.Linear(input_size, hidden_size)\n",
        "         self.layer_2 = nn.Linear(hidden_size, num_classes)\n",
        "\n",
        "    def forward(self, x):\n",
        "         out = self.layer_1(x)\n",
        "         out = self.relu(out)\n",
        "         out = self.layer_2(out)\n",
        "         # no activation and no softmax at the end since the loss function requires only unnormalized logits\n",
        "         return out"
      ]
    },
    {
      "cell_type": "markdown",
      "metadata": {
        "id": "MjKUgCOGqoYt"
      },
      "source": [
        "We next specify the parameters and loss function. See https://pytorch.org/docs/stable/generated/torch.nn.CrossEntropyLoss.html for the cross entropy."
      ]
    },
    {
      "cell_type": "code",
      "execution_count": null,
      "metadata": {
        "id": "sWwxvcIIqoYt"
      },
      "outputs": [],
      "source": [
        "#--- construction of the model: from input_size to num_classes with one hidden layer ---\n",
        "input_size = 784\n",
        "hidden_size = 100 ## TO COMPLETE\n",
        "num_classes = 10\n",
        "model = NeuralNet(input_size, hidden_size, num_classes)\n",
        "\n",
        "#--- Loss and optimizer ---\n",
        "num_epochs = 5 ## TO COMPLETE\n",
        "batch_size = 32 ## TO COMPLETE\n",
        "learning_rate = 0.01 ## TO COMPLETE\n",
        "loss_function = nn.CrossEntropyLoss()\n",
        "optimizer = torch.optim.Adam(model.parameters(), lr=learning_rate)\n",
        "\n",
        "#--- data ---\n",
        "train_loader = torch.utils.data.DataLoader(dataset=train_dataset,batch_size=batch_size,shuffle=True)\n",
        "validation_loader = torch.utils.data.DataLoader(dataset=validation_dataset,batch_size=validation_length,shuffle=True)\n",
        "test_loader = torch.utils.data.DataLoader(dataset=test_dataset,batch_size=test_dataset.data.shape[0],shuffle=True)"
      ]
    },
    {
      "cell_type": "markdown",
      "metadata": {
        "id": "rllYc0ReqoYu"
      },
      "source": [
        "We can check that the test and validation sets consist of a single batch."
      ]
    },
    {
      "cell_type": "code",
      "execution_count": null,
      "metadata": {
        "colab": {
          "base_uri": "https://localhost:8080/"
        },
        "id": "mbqSQgaMqoYu",
        "outputId": "c610d6ce-24c5-4ed7-cc2d-d9f09d112925"
      },
      "outputs": [
        {
          "output_type": "stream",
          "name": "stdout",
          "text": [
            "validation: torch.Size([10000, 1, 28, 28])\n",
            "test: torch.Size([10000, 1, 28, 28])\n"
          ]
        }
      ],
      "source": [
        "for i, (images, labels) in enumerate(validation_loader):\n",
        "    print('validation:',images.shape)\n",
        "for i, (images, labels) in enumerate(test_loader):\n",
        "    print('test:',images.shape)"
      ]
    },
    {
      "cell_type": "markdown",
      "metadata": {
        "id": "kC5lgf0LqoYu"
      },
      "source": [
        "**Question 1.** Perform the training. What accuracy can you get?"
      ]
    },
    {
      "cell_type": "code",
      "execution_count": null,
      "metadata": {
        "colab": {
          "base_uri": "https://localhost:8080/"
        },
        "id": "4YUWoR3_qoYv",
        "outputId": "7ef51c12-0502-4dae-8c38-36a2fcae9130"
      },
      "outputs": [
        {
          "output_type": "stream",
          "name": "stdout",
          "text": [
            "-- Better model // saving\n",
            "Epoch [1/5], Train loss: 0.1187, Validation loss: 0.1626\n",
            "-- Better model // saving\n",
            "Epoch [2/5], Train loss: 0.2492, Validation loss: 0.1494\n",
            "Epoch [3/5], Train loss: 0.0760, Validation loss: 0.1776\n",
            "Epoch [4/5], Train loss: 0.0447, Validation loss: 0.1773\n",
            "Epoch [5/5], Train loss: 0.0499, Validation loss: 0.1788\n"
          ]
        }
      ],
      "source": [
        "early_stopping_steps = 10 ## TO COMPLETE\n",
        "min_validation_loss = float('inf') ## TO COMPLETE\n",
        "#The first time the validation loss is computed it will be considered the lowest validation loss seen so far.\n",
        "nb_steps_where_test_loss_did_not_decrease = 0\n",
        "\n",
        "for epoch in range(num_epochs):\n",
        "    for i, (images, labels) in enumerate(train_loader):\n",
        "         # original shape [batch_size, 1, 28, 28], resized to [batch_size, 784]\n",
        "         images = images.reshape(-1, 28*28)\n",
        "         # Forward pass\n",
        "         outputs = model(images)\n",
        "         loss = loss_function(outputs, labels)\n",
        "         # Backward and optimize\n",
        "         optimizer.zero_grad()\n",
        "         loss.backward()\n",
        "         optimizer.step()\n",
        "    # validation loss for early stopping\n",
        "    nb_steps_where_test_loss_did_not_decrease += 1\n",
        "    if (nb_steps_where_test_loss_did_not_decrease > early_stopping_steps):\n",
        "        print('The test loss no longer decreases... STOP')\n",
        "        break\n",
        "    for j, (validation_images, validation_labels) in enumerate(validation_loader):\n",
        "         validation_loss = loss_function(model(validation_images.reshape(-1, 28*28)),validation_labels)\n",
        "    if (validation_loss < min_validation_loss):\n",
        "        min_validation_loss = validation_loss\n",
        "        nb_steps_where_test_loss_did_not_decrease = 0\n",
        "        print(f'-- Better model // saving')\n",
        "        torch.save(model, 'best_model')\n",
        "    print(f'Epoch [{epoch+1}/{num_epochs}], Train loss: {loss.item():.4f}, Validation loss: {validation_loss.item():.4f}')"
      ]
    },
    {
      "cell_type": "markdown",
      "metadata": {
        "id": "pyIBAAq7qoYv"
      },
      "source": [
        "We can then test the quality of the predictions made by the network."
      ]
    },
    {
      "cell_type": "code",
      "execution_count": null,
      "metadata": {
        "colab": {
          "base_uri": "https://localhost:8080/"
        },
        "id": "YzbPJKYgqoYw",
        "outputId": "4555282a-9925-47ac-ac0a-b601934de748"
      },
      "outputs": [
        {
          "output_type": "stream",
          "name": "stdout",
          "text": [
            "Accuracy of the network on the 10000 test images: 95.69 %\n"
          ]
        }
      ],
      "source": [
        "del model\n",
        "model = torch.load('best_model')\n",
        "\n",
        "# no gradient needed for evaluation\n",
        "with torch.no_grad():\n",
        "    n_correct = 0\n",
        "    n_samples = 0\n",
        "    for images, labels in test_loader:\n",
        "        images = images.reshape(-1, 28*28)\n",
        "        outputs = model(images)\n",
        "        # max returns (value ,index)\n",
        "        _, predicted = torch.max(outputs.data, 1)\n",
        "        n_samples += labels.size(0)\n",
        "        n_correct += (predicted == labels).sum().item()\n",
        "\n",
        "acc = 100.0 * n_correct / n_samples\n",
        "print(f'Accuracy of the network on the 10000 test images: {acc} %')"
      ]
    },
    {
      "cell_type": "markdown",
      "source": [
        "*So I can get an accuracy of 0.9568*"
      ],
      "metadata": {
        "id": "4Bfd_UvBSU_y"
      }
    },
    {
      "cell_type": "markdown",
      "metadata": {
        "id": "VAf32ISLqoYw"
      },
      "source": [
        "**Question 2.** Try to improve the performance by various means (adding an extra hidden layer, regularizing with dropout, changing the optimization algorithm, etc). What is the best test accuracy you can achieve?"
      ]
    },
    {
      "cell_type": "code",
      "source": [
        "class NeuralNet(nn.Module):\n",
        "    def __init__(self, input_size, hidden_size1, hidden_size2, num_classes):\n",
        "        super(NeuralNet, self).__init__()\n",
        "        self.l1 = nn.Linear(input_size, hidden_size1)\n",
        "        self.relu1 = nn.ReLU()\n",
        "        self.l2 = nn.Linear(hidden_size1, hidden_size2)\n",
        "        self.relu2 = nn.ReLU()\n",
        "        self.l3 = nn.Linear(hidden_size2, num_classes)\n",
        "\n",
        "    def forward(self, x):\n",
        "        out = self.l1(x)\n",
        "        out = self.relu1(out)\n",
        "        out = self.l2(out)\n",
        "        out = self.relu2(out)\n",
        "        out = self.l3(out)\n",
        "        return out"
      ],
      "metadata": {
        "id": "HpaRZIearelW"
      },
      "execution_count": null,
      "outputs": []
    },
    {
      "cell_type": "code",
      "execution_count": null,
      "metadata": {
        "id": "_w0aRAMDqoYx"
      },
      "outputs": [],
      "source": [
        "#--- construction of the model: from input_size to num_classes with one hidden layer ---\n",
        "input_size = 784\n",
        "num_classes = 10\n",
        "hidden_size1 = 100 ## TO COMPLETE\n",
        "hidden_size2 = 100 ## TO COMPLETE\n",
        "model = NeuralNet(input_size, hidden_size1, hidden_size2, num_classes)\n",
        "\n",
        "#--- Loss and optimizer ---\n",
        "num_epochs = 5 ## TO COMPLETE\n",
        "batch_size = 32 ## TO COMPLETE\n",
        "learning_rate = 0.01 ## TO COMPLETE\n",
        "loss_function = nn.CrossEntropyLoss()\n",
        "optimizer = torch.optim.SGD(model.parameters(), lr=learning_rate, momentum=0.9) #change the optimization algorithm from Adam to SGD\n",
        "\n",
        "#--- data ---\n",
        "train_loader = torch.utils.data.DataLoader(dataset=train_dataset,batch_size=batch_size,shuffle=True)\n",
        "validation_loader = torch.utils.data.DataLoader(dataset=validation_dataset,batch_size=validation_length,shuffle=True)\n",
        "test_loader = torch.utils.data.DataLoader(dataset=test_dataset,batch_size=test_dataset.data.shape[0],shuffle=True)"
      ]
    },
    {
      "cell_type": "code",
      "source": [
        "early_stopping_steps = 10 ## TO COMPLETE\n",
        "min_validation_loss = float('inf') ## TO COMPLETE\n",
        "#The first time the validation loss is computed it will be considered the lowest validation loss seen so far.\n",
        "nb_steps_where_test_loss_did_not_decrease = 0\n",
        "\n",
        "for epoch in range(num_epochs):\n",
        "    for i, (images, labels) in enumerate(train_loader):\n",
        "         # original shape [batch_size, 1, 28, 28], resized to [batch_size, 784]\n",
        "         images = images.reshape(-1, 28*28)\n",
        "         # Forward pass\n",
        "         outputs = model(images)\n",
        "         loss = loss_function(outputs, labels)\n",
        "         # Backward and optimize\n",
        "         optimizer.zero_grad()\n",
        "         loss.backward()\n",
        "         optimizer.step()\n",
        "    # validation loss for early stopping\n",
        "    nb_steps_where_test_loss_did_not_decrease += 1\n",
        "    if (nb_steps_where_test_loss_did_not_decrease > early_stopping_steps):\n",
        "        print('The test loss no longer decreases... STOP')\n",
        "        break\n",
        "    for j, (validation_images, validation_labels) in enumerate(validation_loader):\n",
        "         validation_loss = loss_function(model(validation_images.reshape(-1, 28*28)),validation_labels)\n",
        "    if (validation_loss < min_validation_loss):\n",
        "        min_validation_loss = validation_loss\n",
        "        nb_steps_where_test_loss_did_not_decrease = 0\n",
        "        print(f'-- Better model // saving')\n",
        "        torch.save(model, 'best_model')\n",
        "    print(f'Epoch [{epoch+1}/{num_epochs}], Train loss: {loss.item():.4f}, Validation loss: {validation_loss.item():.4f}')"
      ],
      "metadata": {
        "colab": {
          "base_uri": "https://localhost:8080/"
        },
        "id": "qhDhD5faqXtU",
        "outputId": "8a1e4ab2-271c-44ac-c8fb-8d6a62f4bf41"
      },
      "execution_count": null,
      "outputs": [
        {
          "output_type": "stream",
          "name": "stdout",
          "text": [
            "-- Better model // saving\n",
            "Epoch [1/5], Train loss: 0.0736, Validation loss: 0.1764\n",
            "-- Better model // saving\n",
            "Epoch [2/5], Train loss: 0.0465, Validation loss: 0.1219\n",
            "-- Better model // saving\n",
            "Epoch [3/5], Train loss: 0.0044, Validation loss: 0.1093\n",
            "-- Better model // saving\n",
            "Epoch [4/5], Train loss: 0.0218, Validation loss: 0.0986\n",
            "-- Better model // saving\n",
            "Epoch [5/5], Train loss: 0.0095, Validation loss: 0.0887\n"
          ]
        }
      ]
    },
    {
      "cell_type": "code",
      "source": [
        "del model\n",
        "model = torch.load('best_model')\n",
        "\n",
        "# no gradient needed for evaluation\n",
        "with torch.no_grad():\n",
        "    n_correct = 0\n",
        "    n_samples = 0\n",
        "    for images, labels in test_loader:\n",
        "        images = images.reshape(-1, 28*28)\n",
        "        outputs = model(images)\n",
        "        # max returns (value ,index)\n",
        "        _, predicted = torch.max(outputs.data, 1)\n",
        "        n_samples += labels.size(0)\n",
        "        n_correct += (predicted == labels).sum().item()\n",
        "\n",
        "acc = 100.0 * n_correct / n_samples\n",
        "print(f'Accuracy of the network on the 10000 test images: {acc} %')"
      ],
      "metadata": {
        "colab": {
          "base_uri": "https://localhost:8080/"
        },
        "id": "cf385IKNqmJ6",
        "outputId": "eaad56aa-116b-49d4-a734-3527c9375efd"
      },
      "execution_count": null,
      "outputs": [
        {
          "output_type": "stream",
          "name": "stdout",
          "text": [
            "Accuracy of the network on the 10000 test images: 97.22 %\n"
          ]
        }
      ]
    },
    {
      "cell_type": "markdown",
      "source": [
        "*Just changing the optimizer to SGD increased the accuracy to 0.9705.*\n",
        "\n",
        "*With the change and the add of an extra hidden layer: Accuracy=0.9724*"
      ],
      "metadata": {
        "id": "Ek0wfudXsJjK"
      }
    }
  ],
  "metadata": {
    "kernelspec": {
      "display_name": "Python 3",
      "language": "python",
      "name": "python3"
    },
    "language_info": {
      "codemirror_mode": {
        "name": "ipython",
        "version": 3
      },
      "file_extension": ".py",
      "mimetype": "text/x-python",
      "name": "python",
      "nbconvert_exporter": "python",
      "pygments_lexer": "ipython3",
      "version": "3.8.10"
    },
    "colab": {
      "provenance": []
    }
  },
  "nbformat": 4,
  "nbformat_minor": 0
}